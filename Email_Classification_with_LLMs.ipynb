{
 "cells": [
  {
   "cell_type": "markdown",
   "metadata": {},
   "source": [
    "# **Email Classification using LLMs**\n",
    "In this notebook I will use Llama 3.2 to try to classify email messages into one of the following categories:\n",
    "+ Update for cargo transportation\n",
    "+ Advertisement\n",
    "+ Spam/Phishing\n",
    "+ Request for Quote\n",
    "+ Offer\n",
    "+ Accepted or Not \n",
    "+ Booking Note\n",
    "+ Reference Number Execution\n",
    "\n",
    "### <ins>TODO:</ins>\n",
    "+ Check the classification with mistral\n",
    "+ Use remote pc for larger parameter model, review classification\n"
   ]
  },
  {
   "cell_type": "markdown",
   "metadata": {},
   "source": [
    "### **1. Import necessary libraries**"
   ]
  },
  {
   "cell_type": "code",
   "execution_count": 6,
   "metadata": {},
   "outputs": [
    {
     "name": "stdout",
     "output_type": "stream",
     "text": [
      "Requirement already satisfied: langchain in c:\\users\\gfrag\\desktop\\myworkspace\\email_classification\\venv\\lib\\site-packages (0.3.8)\n",
      "Requirement already satisfied: PyYAML>=5.3 in c:\\users\\gfrag\\desktop\\myworkspace\\email_classification\\venv\\lib\\site-packages (from langchain) (6.0.2)\n",
      "Requirement already satisfied: SQLAlchemy<3,>=1.4 in c:\\users\\gfrag\\desktop\\myworkspace\\email_classification\\venv\\lib\\site-packages (from langchain) (2.0.36)\n",
      "Requirement already satisfied: aiohttp<4.0.0,>=3.8.3 in c:\\users\\gfrag\\desktop\\myworkspace\\email_classification\\venv\\lib\\site-packages (from langchain) (3.11.7)\n",
      "Requirement already satisfied: langchain-core<0.4.0,>=0.3.21 in c:\\users\\gfrag\\desktop\\myworkspace\\email_classification\\venv\\lib\\site-packages (from langchain) (0.3.21)\n",
      "Requirement already satisfied: langchain-text-splitters<0.4.0,>=0.3.0 in c:\\users\\gfrag\\desktop\\myworkspace\\email_classification\\venv\\lib\\site-packages (from langchain) (0.3.2)\n",
      "Requirement already satisfied: langsmith<0.2.0,>=0.1.17 in c:\\users\\gfrag\\desktop\\myworkspace\\email_classification\\venv\\lib\\site-packages (from langchain) (0.1.145)\n",
      "Requirement already satisfied: numpy<2,>=1.26.2 in c:\\users\\gfrag\\desktop\\myworkspace\\email_classification\\venv\\lib\\site-packages (from langchain) (1.26.4)\n",
      "Requirement already satisfied: pydantic<3.0.0,>=2.7.4 in c:\\users\\gfrag\\desktop\\myworkspace\\email_classification\\venv\\lib\\site-packages (from langchain) (2.10.1)\n",
      "Requirement already satisfied: requests<3,>=2 in c:\\users\\gfrag\\desktop\\myworkspace\\email_classification\\venv\\lib\\site-packages (from langchain) (2.32.3)\n",
      "Requirement already satisfied: tenacity!=8.4.0,<10,>=8.1.0 in c:\\users\\gfrag\\desktop\\myworkspace\\email_classification\\venv\\lib\\site-packages (from langchain) (9.0.0)\n",
      "Requirement already satisfied: aiohappyeyeballs>=2.3.0 in c:\\users\\gfrag\\desktop\\myworkspace\\email_classification\\venv\\lib\\site-packages (from aiohttp<4.0.0,>=3.8.3->langchain) (2.4.3)\n",
      "Requirement already satisfied: aiosignal>=1.1.2 in c:\\users\\gfrag\\desktop\\myworkspace\\email_classification\\venv\\lib\\site-packages (from aiohttp<4.0.0,>=3.8.3->langchain) (1.3.1)\n",
      "Requirement already satisfied: attrs>=17.3.0 in c:\\users\\gfrag\\desktop\\myworkspace\\email_classification\\venv\\lib\\site-packages (from aiohttp<4.0.0,>=3.8.3->langchain) (24.2.0)\n",
      "Requirement already satisfied: frozenlist>=1.1.1 in c:\\users\\gfrag\\desktop\\myworkspace\\email_classification\\venv\\lib\\site-packages (from aiohttp<4.0.0,>=3.8.3->langchain) (1.5.0)\n",
      "Requirement already satisfied: multidict<7.0,>=4.5 in c:\\users\\gfrag\\desktop\\myworkspace\\email_classification\\venv\\lib\\site-packages (from aiohttp<4.0.0,>=3.8.3->langchain) (6.1.0)\n",
      "Requirement already satisfied: propcache>=0.2.0 in c:\\users\\gfrag\\desktop\\myworkspace\\email_classification\\venv\\lib\\site-packages (from aiohttp<4.0.0,>=3.8.3->langchain) (0.2.0)\n",
      "Requirement already satisfied: yarl<2.0,>=1.17.0 in c:\\users\\gfrag\\desktop\\myworkspace\\email_classification\\venv\\lib\\site-packages (from aiohttp<4.0.0,>=3.8.3->langchain) (1.18.0)\n",
      "Requirement already satisfied: jsonpatch<2.0,>=1.33 in c:\\users\\gfrag\\desktop\\myworkspace\\email_classification\\venv\\lib\\site-packages (from langchain-core<0.4.0,>=0.3.21->langchain) (1.33)\n",
      "Requirement already satisfied: packaging<25,>=23.2 in c:\\users\\gfrag\\desktop\\myworkspace\\email_classification\\venv\\lib\\site-packages (from langchain-core<0.4.0,>=0.3.21->langchain) (24.2)\n",
      "Requirement already satisfied: typing-extensions>=4.7 in c:\\users\\gfrag\\desktop\\myworkspace\\email_classification\\venv\\lib\\site-packages (from langchain-core<0.4.0,>=0.3.21->langchain) (4.12.2)\n",
      "Requirement already satisfied: httpx<1,>=0.23.0 in c:\\users\\gfrag\\desktop\\myworkspace\\email_classification\\venv\\lib\\site-packages (from langsmith<0.2.0,>=0.1.17->langchain) (0.27.2)\n",
      "Requirement already satisfied: orjson<4.0.0,>=3.9.14 in c:\\users\\gfrag\\desktop\\myworkspace\\email_classification\\venv\\lib\\site-packages (from langsmith<0.2.0,>=0.1.17->langchain) (3.10.12)\n",
      "Requirement already satisfied: requests-toolbelt<2.0.0,>=1.0.0 in c:\\users\\gfrag\\desktop\\myworkspace\\email_classification\\venv\\lib\\site-packages (from langsmith<0.2.0,>=0.1.17->langchain) (1.0.0)\n",
      "Requirement already satisfied: annotated-types>=0.6.0 in c:\\users\\gfrag\\desktop\\myworkspace\\email_classification\\venv\\lib\\site-packages (from pydantic<3.0.0,>=2.7.4->langchain) (0.7.0)\n",
      "Requirement already satisfied: pydantic-core==2.27.1 in c:\\users\\gfrag\\desktop\\myworkspace\\email_classification\\venv\\lib\\site-packages (from pydantic<3.0.0,>=2.7.4->langchain) (2.27.1)\n",
      "Requirement already satisfied: charset-normalizer<4,>=2 in c:\\users\\gfrag\\desktop\\myworkspace\\email_classification\\venv\\lib\\site-packages (from requests<3,>=2->langchain) (3.4.0)\n",
      "Requirement already satisfied: idna<4,>=2.5 in c:\\users\\gfrag\\desktop\\myworkspace\\email_classification\\venv\\lib\\site-packages (from requests<3,>=2->langchain) (3.10)\n",
      "Requirement already satisfied: urllib3<3,>=1.21.1 in c:\\users\\gfrag\\desktop\\myworkspace\\email_classification\\venv\\lib\\site-packages (from requests<3,>=2->langchain) (2.2.3)\n",
      "Requirement already satisfied: certifi>=2017.4.17 in c:\\users\\gfrag\\desktop\\myworkspace\\email_classification\\venv\\lib\\site-packages (from requests<3,>=2->langchain) (2024.8.30)\n",
      "Requirement already satisfied: greenlet!=0.4.17 in c:\\users\\gfrag\\desktop\\myworkspace\\email_classification\\venv\\lib\\site-packages (from SQLAlchemy<3,>=1.4->langchain) (3.1.1)\n",
      "Requirement already satisfied: anyio in c:\\users\\gfrag\\desktop\\myworkspace\\email_classification\\venv\\lib\\site-packages (from httpx<1,>=0.23.0->langsmith<0.2.0,>=0.1.17->langchain) (4.6.2.post1)\n",
      "Requirement already satisfied: httpcore==1.* in c:\\users\\gfrag\\desktop\\myworkspace\\email_classification\\venv\\lib\\site-packages (from httpx<1,>=0.23.0->langsmith<0.2.0,>=0.1.17->langchain) (1.0.7)\n",
      "Requirement already satisfied: sniffio in c:\\users\\gfrag\\desktop\\myworkspace\\email_classification\\venv\\lib\\site-packages (from httpx<1,>=0.23.0->langsmith<0.2.0,>=0.1.17->langchain) (1.3.1)\n",
      "Requirement already satisfied: h11<0.15,>=0.13 in c:\\users\\gfrag\\desktop\\myworkspace\\email_classification\\venv\\lib\\site-packages (from httpcore==1.*->httpx<1,>=0.23.0->langsmith<0.2.0,>=0.1.17->langchain) (0.14.0)\n",
      "Requirement already satisfied: jsonpointer>=1.9 in c:\\users\\gfrag\\desktop\\myworkspace\\email_classification\\venv\\lib\\site-packages (from jsonpatch<2.0,>=1.33->langchain-core<0.4.0,>=0.3.21->langchain) (3.0.0)\n",
      "Note: you may need to restart the kernel to use updated packages.\n"
     ]
    },
    {
     "name": "stderr",
     "output_type": "stream",
     "text": [
      "\n",
      "[notice] A new release of pip is available: 23.2.1 -> 24.3.1\n",
      "[notice] To update, run: python.exe -m pip install --upgrade pip\n"
     ]
    },
    {
     "name": "stdout",
     "output_type": "stream",
     "text": [
      "Requirement already satisfied: langchain-ollama in c:\\users\\gfrag\\desktop\\myworkspace\\email_classification\\venv\\lib\\site-packages (0.2.0)\n",
      "Requirement already satisfied: langchain-core<0.4.0,>=0.3.0 in c:\\users\\gfrag\\desktop\\myworkspace\\email_classification\\venv\\lib\\site-packages (from langchain-ollama) (0.3.21)\n",
      "Requirement already satisfied: ollama<1,>=0.3.0 in c:\\users\\gfrag\\desktop\\myworkspace\\email_classification\\venv\\lib\\site-packages (from langchain-ollama) (0.4.1)\n",
      "Requirement already satisfied: PyYAML>=5.3 in c:\\users\\gfrag\\desktop\\myworkspace\\email_classification\\venv\\lib\\site-packages (from langchain-core<0.4.0,>=0.3.0->langchain-ollama) (6.0.2)\n",
      "Requirement already satisfied: jsonpatch<2.0,>=1.33 in c:\\users\\gfrag\\desktop\\myworkspace\\email_classification\\venv\\lib\\site-packages (from langchain-core<0.4.0,>=0.3.0->langchain-ollama) (1.33)\n",
      "Requirement already satisfied: langsmith<0.2.0,>=0.1.125 in c:\\users\\gfrag\\desktop\\myworkspace\\email_classification\\venv\\lib\\site-packages (from langchain-core<0.4.0,>=0.3.0->langchain-ollama) (0.1.145)\n",
      "Requirement already satisfied: packaging<25,>=23.2 in c:\\users\\gfrag\\desktop\\myworkspace\\email_classification\\venv\\lib\\site-packages (from langchain-core<0.4.0,>=0.3.0->langchain-ollama) (24.2)\n",
      "Requirement already satisfied: pydantic<3.0.0,>=2.5.2 in c:\\users\\gfrag\\desktop\\myworkspace\\email_classification\\venv\\lib\\site-packages (from langchain-core<0.4.0,>=0.3.0->langchain-ollama) (2.10.1)\n",
      "Requirement already satisfied: tenacity!=8.4.0,<10.0.0,>=8.1.0 in c:\\users\\gfrag\\desktop\\myworkspace\\email_classification\\venv\\lib\\site-packages (from langchain-core<0.4.0,>=0.3.0->langchain-ollama) (9.0.0)\n",
      "Requirement already satisfied: typing-extensions>=4.7 in c:\\users\\gfrag\\desktop\\myworkspace\\email_classification\\venv\\lib\\site-packages (from langchain-core<0.4.0,>=0.3.0->langchain-ollama) (4.12.2)\n",
      "Requirement already satisfied: httpx<0.28.0,>=0.27.0 in c:\\users\\gfrag\\desktop\\myworkspace\\email_classification\\venv\\lib\\site-packages (from ollama<1,>=0.3.0->langchain-ollama) (0.27.2)\n",
      "Requirement already satisfied: anyio in c:\\users\\gfrag\\desktop\\myworkspace\\email_classification\\venv\\lib\\site-packages (from httpx<0.28.0,>=0.27.0->ollama<1,>=0.3.0->langchain-ollama) (4.6.2.post1)\n",
      "Requirement already satisfied: certifi in c:\\users\\gfrag\\desktop\\myworkspace\\email_classification\\venv\\lib\\site-packages (from httpx<0.28.0,>=0.27.0->ollama<1,>=0.3.0->langchain-ollama) (2024.8.30)\n",
      "Requirement already satisfied: httpcore==1.* in c:\\users\\gfrag\\desktop\\myworkspace\\email_classification\\venv\\lib\\site-packages (from httpx<0.28.0,>=0.27.0->ollama<1,>=0.3.0->langchain-ollama) (1.0.7)\n",
      "Requirement already satisfied: idna in c:\\users\\gfrag\\desktop\\myworkspace\\email_classification\\venv\\lib\\site-packages (from httpx<0.28.0,>=0.27.0->ollama<1,>=0.3.0->langchain-ollama) (3.10)\n",
      "Requirement already satisfied: sniffio in c:\\users\\gfrag\\desktop\\myworkspace\\email_classification\\venv\\lib\\site-packages (from httpx<0.28.0,>=0.27.0->ollama<1,>=0.3.0->langchain-ollama) (1.3.1)\n",
      "Requirement already satisfied: h11<0.15,>=0.13 in c:\\users\\gfrag\\desktop\\myworkspace\\email_classification\\venv\\lib\\site-packages (from httpcore==1.*->httpx<0.28.0,>=0.27.0->ollama<1,>=0.3.0->langchain-ollama) (0.14.0)\n",
      "Requirement already satisfied: jsonpointer>=1.9 in c:\\users\\gfrag\\desktop\\myworkspace\\email_classification\\venv\\lib\\site-packages (from jsonpatch<2.0,>=1.33->langchain-core<0.4.0,>=0.3.0->langchain-ollama) (3.0.0)\n",
      "Requirement already satisfied: orjson<4.0.0,>=3.9.14 in c:\\users\\gfrag\\desktop\\myworkspace\\email_classification\\venv\\lib\\site-packages (from langsmith<0.2.0,>=0.1.125->langchain-core<0.4.0,>=0.3.0->langchain-ollama) (3.10.12)\n",
      "Requirement already satisfied: requests<3,>=2 in c:\\users\\gfrag\\desktop\\myworkspace\\email_classification\\venv\\lib\\site-packages (from langsmith<0.2.0,>=0.1.125->langchain-core<0.4.0,>=0.3.0->langchain-ollama) (2.32.3)\n",
      "Requirement already satisfied: requests-toolbelt<2.0.0,>=1.0.0 in c:\\users\\gfrag\\desktop\\myworkspace\\email_classification\\venv\\lib\\site-packages (from langsmith<0.2.0,>=0.1.125->langchain-core<0.4.0,>=0.3.0->langchain-ollama) (1.0.0)\n",
      "Requirement already satisfied: annotated-types>=0.6.0 in c:\\users\\gfrag\\desktop\\myworkspace\\email_classification\\venv\\lib\\site-packages (from pydantic<3.0.0,>=2.5.2->langchain-core<0.4.0,>=0.3.0->langchain-ollama) (0.7.0)\n",
      "Requirement already satisfied: pydantic-core==2.27.1 in c:\\users\\gfrag\\desktop\\myworkspace\\email_classification\\venv\\lib\\site-packages (from pydantic<3.0.0,>=2.5.2->langchain-core<0.4.0,>=0.3.0->langchain-ollama) (2.27.1)\n",
      "Requirement already satisfied: charset-normalizer<4,>=2 in c:\\users\\gfrag\\desktop\\myworkspace\\email_classification\\venv\\lib\\site-packages (from requests<3,>=2->langsmith<0.2.0,>=0.1.125->langchain-core<0.4.0,>=0.3.0->langchain-ollama) (3.4.0)\n",
      "Requirement already satisfied: urllib3<3,>=1.21.1 in c:\\users\\gfrag\\desktop\\myworkspace\\email_classification\\venv\\lib\\site-packages (from requests<3,>=2->langsmith<0.2.0,>=0.1.125->langchain-core<0.4.0,>=0.3.0->langchain-ollama) (2.2.3)\n",
      "Note: you may need to restart the kernel to use updated packages.\n"
     ]
    },
    {
     "name": "stderr",
     "output_type": "stream",
     "text": [
      "\n",
      "[notice] A new release of pip is available: 23.2.1 -> 24.3.1\n",
      "[notice] To update, run: python.exe -m pip install --upgrade pip\n"
     ]
    }
   ],
   "source": [
    "%pip install langchain\n",
    "%pip install langchain-ollama\n"
   ]
  },
  {
   "cell_type": "code",
   "execution_count": 7,
   "metadata": {},
   "outputs": [
    {
     "name": "stdout",
     "output_type": "stream",
     "text": [
      "**Comprehensive Spam Email Classification Report**\n",
      "\n",
      "**Classification Outcome:** **Spam/Phishing**\n",
      "\n",
      "**Reasoning:**\n",
      "\n",
      "1. **Suspicious subject line**: The use of emojis and an urgent tone (URGENT) is designed to create a sense of excitement and pressure, which is typical of phishing emails.\n",
      "2. **Lack of personalization**: Despite claiming to be addressed to \"Valued User\", the email does not contain any specific information about the recipient's account or history with the sender, making it unlikely to be a legitimate communication.\n",
      "3. **Too good to be true**: The promise of winning $1,000,000 is highly improbable and serves as a common tactic used by scammers to entice victims into providing sensitive information.\n",
      "4. **Request for personal and financial information**: The email asks the recipient to provide their name, contact details, and bank account information, which is a clear red flag for phishing attempts.\n",
      "5. **Urgency and scarcity tactics**: The \"24-hour\" deadline creates a sense of urgency, while the claim that this is a \"once-in-a-lifetime opportunity\" aims to create a false sense of exclusivity.\n",
      "\n",
      "**Additional Observations:**\n",
      "\n",
      "* The email lacks any credible branding or logos, suggesting it may be from an unknown or unverified sender.\n",
      "* The language and formatting are overly sensationalized, which is consistent with spam and phishing emails.\n",
      "\n",
      "In conclusion, this email exhibits all the hallmarks of a sophisticated phishing attempt. I strongly advise against interacting with the email or clicking on the provided link.\n"
     ]
    }
   ],
   "source": [
    "from langchain.prompts import PromptTemplate\n",
    "from langchain_ollama import OllamaLLM, OllamaEmbeddings\n",
    "\n",
    "\n",
    "classification_template = \"\"\"\n",
    "As an expert spam email classifier,You are  equipped to analyze and categorize \n",
    "any given email in one of the following categories:\n",
    "+ Update for cargo transportation\n",
    "+ Advertisement\n",
    "+ Spam/Phishing\n",
    "+ Request for Quote\n",
    "+ Offer\n",
    "+ Accepted or Not \n",
    "+ Booking Note\n",
    "+ Reference Number Execution\n",
    "\n",
    "Upon evaluation, you will generate a comprehensive report detailing the classification outcome.\n",
    "\n",
    "email:{email_body}\n",
    "\"\"\"\n",
    "\n",
    "email_example = \"\"\"\n",
    "Subject: 💰 URGENT: You've Won $1,000,000! Claim Now! 💰\n",
    "\n",
    "Body:\n",
    "Dear Valued User,\n",
    "\n",
    "Congratulations! 🎉 You have been selected as the LUCKY WINNER of our exclusive $1,000,000 cash prize! This is a once-in-a-lifetime opportunity to change your life forever.\n",
    "\n",
    "To claim your reward, all you need to do is:\n",
    "1️⃣ Click on the secure link below.\n",
    "2️⃣ Provide your name, contact details, and bank account information for the transfer.\n",
    "\n",
    "👉 Claim Your Prize Now\n",
    "\n",
    "Hurry! This offer expires in 24 hours. Don't miss your chance to be a millionaire!\n",
    "\n",
    "Sincerely,\n",
    "The Lucky Draw Team\n",
    "\"\"\"\n",
    "\n",
    "\n",
    "\n",
    "\n",
    "prompt = PromptTemplate.from_template(classification_template)\n",
    "\n",
    "model = OllamaLLM(model=\"llama3.2-vision\")\n",
    "\n",
    "chain = prompt | model\n",
    "\n",
    "print(chain.invoke({\"email_body\": email_example}))\n",
    "\n",
    "\n",
    "\n"
   ]
  }
 ],
 "metadata": {
  "kernelspec": {
   "display_name": "venv",
   "language": "python",
   "name": "python3"
  },
  "language_info": {
   "codemirror_mode": {
    "name": "ipython",
    "version": 3
   },
   "file_extension": ".py",
   "mimetype": "text/x-python",
   "name": "python",
   "nbconvert_exporter": "python",
   "pygments_lexer": "ipython3",
   "version": "3.12.1"
  }
 },
 "nbformat": 4,
 "nbformat_minor": 2
}
